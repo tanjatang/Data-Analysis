{
  "nbformat": 4,
  "nbformat_minor": 0,
  "metadata": {
    "kernelspec": {
      "display_name": "Python 3",
      "language": "python",
      "name": "python3"
    },
    "language_info": {
      "codemirror_mode": {
        "name": "ipython",
        "version": 3
      },
      "file_extension": ".py",
      "mimetype": "text/x-python",
      "name": "python",
      "nbconvert_exporter": "python",
      "pygments_lexer": "ipython3",
      "version": "3.6.5"
    },
    "colab": {
      "name": "跨境电商选品数据分析.ipynb",
      "provenance": [],
      "toc_visible": true,
      "include_colab_link": true
    }
  },
  "cells": [
    {
      "cell_type": "markdown",
      "metadata": {
        "id": "view-in-github",
        "colab_type": "text"
      },
      "source": [
        "<a href=\"https://colab.research.google.com/github/tanjatang/Data-Analyst/blob/main/%E8%B7%A8%E5%A2%83%E7%94%B5%E5%95%86%E9%80%89%E5%93%81%E6%95%B0%E6%8D%AE%E5%88%86%E6%9E%90.ipynb\" target=\"_parent\"><img src=\"https://colab.research.google.com/assets/colab-badge.svg\" alt=\"Open In Colab\"/></a>"
      ]
    },
    {
      "cell_type": "markdown",
      "metadata": {
        "id": "OUF8xPiI2NxN"
      },
      "source": [
        "## 第一步，导入必要的包\n",
        "\n",
        "我们用到的主要分为三大类：\n",
        "数据导入及处理、特征工程及挖掘、可视化"
      ]
    },
    {
      "cell_type": "code",
      "metadata": {
        "ExecuteTime": {
          "end_time": "2021-01-14T05:22:07.054554Z",
          "start_time": "2021-01-14T05:22:06.202831Z"
        },
        "id": "_IjiPteM2Nxb"
      },
      "source": [
        "#载入必要的包\n",
        "import pandas as pd\n",
        "import numpy as np\n",
        "from sklearn import preprocessing\n",
        "\n",
        "import matplotlib.pyplot as plt\n",
        "import seaborn as sns\n",
        "plt.style.use('fivethirtyeight')\n",
        "import warnings\n",
        "# 忽略不必要的warnings\n",
        "warnings.filterwarnings('ignore')\n",
        "\n",
        "# 作图\n",
        "%matplotlib inline\n",
        "sns.set(context='notebook', style='darkgrid', palette='deep', font='sans-serif', font_scale=2.5)\n"
      ],
      "execution_count": 1,
      "outputs": []
    },
    {
      "cell_type": "markdown",
      "metadata": {
        "id": "-r_6Nhhs2Nxc"
      },
      "source": [
        "## 第二步，数据录入\n"
      ]
    },
    {
      "cell_type": "code",
      "metadata": {
        "ExecuteTime": {
          "end_time": "2021-01-14T05:22:13.310937Z",
          "start_time": "2021-01-14T05:22:13.287998Z"
        },
        "scrolled": false,
        "colab": {
          "base_uri": "https://localhost:8080/",
          "height": 289
        },
        "id": "iOExr5Gl2Nxd",
        "outputId": "10ca0215-a1dc-467b-dc24-cacadf29cada"
      },
      "source": [
        "#数据\n",
        "df=pd.read_csv('lesson0.csv',encoding='gbk')\n",
        "df.head()"
      ],
      "execution_count": 2,
      "outputs": [
        {
          "output_type": "execute_result",
          "data": {
            "text/html": [
              "<div>\n",
              "<style scoped>\n",
              "    .dataframe tbody tr th:only-of-type {\n",
              "        vertical-align: middle;\n",
              "    }\n",
              "\n",
              "    .dataframe tbody tr th {\n",
              "        vertical-align: top;\n",
              "    }\n",
              "\n",
              "    .dataframe thead th {\n",
              "        text-align: right;\n",
              "    }\n",
              "</style>\n",
              "<table border=\"1\" class=\"dataframe\">\n",
              "  <thead>\n",
              "    <tr style=\"text-align: right;\">\n",
              "      <th></th>\n",
              "      <th>class0</th>\n",
              "      <th>price</th>\n",
              "      <th>rank1_list</th>\n",
              "      <th>stars</th>\n",
              "      <th>reviews</th>\n",
              "      <th>delivery</th>\n",
              "      <th>rank_big</th>\n",
              "      <th>brand</th>\n",
              "      <th>stock</th>\n",
              "    </tr>\n",
              "  </thead>\n",
              "  <tbody>\n",
              "    <tr>\n",
              "      <th>0</th>\n",
              "      <td>x1</td>\n",
              "      <td>180.00</td>\n",
              "      <td>1.0</td>\n",
              "      <td>4.4</td>\n",
              "      <td>6442.0</td>\n",
              "      <td>Sold by Furbo and Fulfilled by Amazon.</td>\n",
              "      <td>287.0</td>\n",
              "      <td>Furbo</td>\n",
              "      <td>In Stock.</td>\n",
              "    </tr>\n",
              "    <tr>\n",
              "      <th>1</th>\n",
              "      <td>x1</td>\n",
              "      <td>32.99</td>\n",
              "      <td>2.0</td>\n",
              "      <td>3.9</td>\n",
              "      <td>1839.0</td>\n",
              "      <td>Sold by Trekking tribe and Fulfilled by Amazon.</td>\n",
              "      <td>1310.0</td>\n",
              "      <td>TOOGE</td>\n",
              "      <td>In Stock.</td>\n",
              "    </tr>\n",
              "    <tr>\n",
              "      <th>2</th>\n",
              "      <td>x1</td>\n",
              "      <td>29.99</td>\n",
              "      <td>3.0</td>\n",
              "      <td>4.2</td>\n",
              "      <td>2032.0</td>\n",
              "      <td>Sold by FORamerica and Fulfilled by Amazon.</td>\n",
              "      <td>0.0</td>\n",
              "      <td>BOOCOSA-US</td>\n",
              "      <td>In Stock.</td>\n",
              "    </tr>\n",
              "    <tr>\n",
              "      <th>3</th>\n",
              "      <td>x1</td>\n",
              "      <td>139.95</td>\n",
              "      <td>4.0</td>\n",
              "      <td>4.4</td>\n",
              "      <td>376.0</td>\n",
              "      <td>Sold by Petkey and Fulfilled by Amazon.</td>\n",
              "      <td>8004.0</td>\n",
              "      <td>WOPET</td>\n",
              "      <td>In Stock.</td>\n",
              "    </tr>\n",
              "    <tr>\n",
              "      <th>4</th>\n",
              "      <td>x1</td>\n",
              "      <td>29.99</td>\n",
              "      <td>5.0</td>\n",
              "      <td>3.8</td>\n",
              "      <td>322.0</td>\n",
              "      <td>Sold by VI-SON and Fulfilled by Amazon.</td>\n",
              "      <td>9203.0</td>\n",
              "      <td>VINSION</td>\n",
              "      <td>In Stock.</td>\n",
              "    </tr>\n",
              "  </tbody>\n",
              "</table>\n",
              "</div>"
            ],
            "text/plain": [
              "  class0   price  rank1_list  ...  rank_big       brand      stock\n",
              "0     x1  180.00         1.0  ...     287.0       Furbo  In Stock.\n",
              "1     x1   32.99         2.0  ...    1310.0       TOOGE  In Stock.\n",
              "2     x1   29.99         3.0  ...       0.0  BOOCOSA-US  In Stock.\n",
              "3     x1  139.95         4.0  ...    8004.0       WOPET  In Stock.\n",
              "4     x1   29.99         5.0  ...    9203.0     VINSION  In Stock.\n",
              "\n",
              "[5 rows x 9 columns]"
            ]
          },
          "metadata": {
            "tags": []
          },
          "execution_count": 2
        }
      ]
    },
    {
      "cell_type": "markdown",
      "metadata": {
        "id": "4IOtxtkL2Nxe"
      },
      "source": [
        "## 第三步 数据处理"
      ]
    },
    {
      "cell_type": "code",
      "metadata": {
        "ExecuteTime": {
          "end_time": "2021-01-14T05:22:15.893033Z",
          "start_time": "2021-01-14T05:22:15.869097Z"
        },
        "colab": {
          "base_uri": "https://localhost:8080/",
          "height": 294
        },
        "id": "IpZ2cg1s2Nxf",
        "outputId": "ccd970ab-2f9e-4f5e-8d2f-14d25886a630"
      },
      "source": [
        "# 数值化数据的描述\n",
        "df.describe()"
      ],
      "execution_count": 3,
      "outputs": [
        {
          "output_type": "execute_result",
          "data": {
            "text/html": [
              "<div>\n",
              "<style scoped>\n",
              "    .dataframe tbody tr th:only-of-type {\n",
              "        vertical-align: middle;\n",
              "    }\n",
              "\n",
              "    .dataframe tbody tr th {\n",
              "        vertical-align: top;\n",
              "    }\n",
              "\n",
              "    .dataframe thead th {\n",
              "        text-align: right;\n",
              "    }\n",
              "</style>\n",
              "<table border=\"1\" class=\"dataframe\">\n",
              "  <thead>\n",
              "    <tr style=\"text-align: right;\">\n",
              "      <th></th>\n",
              "      <th>price</th>\n",
              "      <th>rank1_list</th>\n",
              "      <th>stars</th>\n",
              "      <th>reviews</th>\n",
              "      <th>rank_big</th>\n",
              "    </tr>\n",
              "  </thead>\n",
              "  <tbody>\n",
              "    <tr>\n",
              "      <th>count</th>\n",
              "      <td>50.000000</td>\n",
              "      <td>50.00000</td>\n",
              "      <td>50.000000</td>\n",
              "      <td>50.00000</td>\n",
              "      <td>50.000000</td>\n",
              "    </tr>\n",
              "    <tr>\n",
              "      <th>mean</th>\n",
              "      <td>92.508600</td>\n",
              "      <td>25.50000</td>\n",
              "      <td>3.996000</td>\n",
              "      <td>316.08000</td>\n",
              "      <td>36342.140000</td>\n",
              "    </tr>\n",
              "    <tr>\n",
              "      <th>std</th>\n",
              "      <td>70.207806</td>\n",
              "      <td>14.57738</td>\n",
              "      <td>0.789461</td>\n",
              "      <td>971.56129</td>\n",
              "      <td>36688.471828</td>\n",
              "    </tr>\n",
              "    <tr>\n",
              "      <th>min</th>\n",
              "      <td>0.000000</td>\n",
              "      <td>1.00000</td>\n",
              "      <td>0.000000</td>\n",
              "      <td>0.00000</td>\n",
              "      <td>0.000000</td>\n",
              "    </tr>\n",
              "    <tr>\n",
              "      <th>25%</th>\n",
              "      <td>32.315000</td>\n",
              "      <td>13.25000</td>\n",
              "      <td>3.800000</td>\n",
              "      <td>14.00000</td>\n",
              "      <td>0.000000</td>\n",
              "    </tr>\n",
              "    <tr>\n",
              "      <th>50%</th>\n",
              "      <td>69.010000</td>\n",
              "      <td>25.50000</td>\n",
              "      <td>4.100000</td>\n",
              "      <td>57.00000</td>\n",
              "      <td>25013.500000</td>\n",
              "    </tr>\n",
              "    <tr>\n",
              "      <th>75%</th>\n",
              "      <td>141.480000</td>\n",
              "      <td>37.75000</td>\n",
              "      <td>4.400000</td>\n",
              "      <td>146.00000</td>\n",
              "      <td>70853.750000</td>\n",
              "    </tr>\n",
              "    <tr>\n",
              "      <th>max</th>\n",
              "      <td>280.490000</td>\n",
              "      <td>50.00000</td>\n",
              "      <td>5.000000</td>\n",
              "      <td>6442.00000</td>\n",
              "      <td>107079.000000</td>\n",
              "    </tr>\n",
              "  </tbody>\n",
              "</table>\n",
              "</div>"
            ],
            "text/plain": [
              "            price  rank1_list      stars     reviews       rank_big\n",
              "count   50.000000    50.00000  50.000000    50.00000      50.000000\n",
              "mean    92.508600    25.50000   3.996000   316.08000   36342.140000\n",
              "std     70.207806    14.57738   0.789461   971.56129   36688.471828\n",
              "min      0.000000     1.00000   0.000000     0.00000       0.000000\n",
              "25%     32.315000    13.25000   3.800000    14.00000       0.000000\n",
              "50%     69.010000    25.50000   4.100000    57.00000   25013.500000\n",
              "75%    141.480000    37.75000   4.400000   146.00000   70853.750000\n",
              "max    280.490000    50.00000   5.000000  6442.00000  107079.000000"
            ]
          },
          "metadata": {
            "tags": []
          },
          "execution_count": 3
        }
      ]
    },
    {
      "cell_type": "code",
      "metadata": {
        "ExecuteTime": {
          "end_time": "2021-01-14T05:22:47.619285Z",
          "start_time": "2021-01-14T05:22:47.608804Z"
        },
        "colab": {
          "base_uri": "https://localhost:8080/"
        },
        "id": "TMM1led32Nxg",
        "outputId": "4e34d8dc-0515-40dc-a343-e2df6ab45a1d"
      },
      "source": [
        "# 空缺值判断，其中，价格、排名是我们重点关注的\n",
        "df.loc[df['price']==0,'price']=None\n",
        "df.loc[df['rank_big']==0,'rank_big']=None\n",
        "df.isnull().any()"
      ],
      "execution_count": 4,
      "outputs": [
        {
          "output_type": "execute_result",
          "data": {
            "text/plain": [
              "class0        True\n",
              "price         True\n",
              "rank1_list    True\n",
              "stars         True\n",
              "reviews       True\n",
              "delivery      True\n",
              "rank_big      True\n",
              "brand         True\n",
              "stock         True\n",
              "dtype: bool"
            ]
          },
          "metadata": {
            "tags": []
          },
          "execution_count": 4
        }
      ]
    },
    {
      "cell_type": "markdown",
      "metadata": {
        "id": "ZBsZHBZF2Nxh"
      },
      "source": [
        "### 空缺值处理\n",
        "\n",
        "针对排名有缺失的，我们用*临近值*来进行填充，在pandas中，会用到`DataFrame.fillna(method='backfill')`函数，，其中`method`可以是`backfill/bfill`-空缺值后面的值替换缺失值；`pad/ffill`-空缺值前面的值替换缺失值；直接赋值`fillna(0)`，用0来填补 \n",
        "\n",
        "\n"
      ]
    },
    {
      "cell_type": "code",
      "metadata": {
        "ExecuteTime": {
          "end_time": "2021-01-14T05:24:14.691995Z",
          "start_time": "2021-01-14T05:24:14.681024Z"
        },
        "id": "9BTtGPpU2Nxh"
      },
      "source": [
        "# 缺货的删掉\n",
        "df=df[df['stock']!='Currently unavailable.']\n",
        "# 删除空缺的\n",
        "df=df.dropna(axis=0, how='any', subset=['brand','price','stock'], inplace=False)\n",
        "\n",
        "#其中，大类排名用前后值来\n",
        "df['rank_big_up']=df['rank_big']\n",
        "df['rank_big_down']=df['rank_big']\n",
        "df['rank_big']=(df['rank_big_up'].fillna(method='pad')+df['rank_big_down'].fillna(method='backfill'))/2\n",
        "\n",
        "#对delivery的填补\n",
        "df['delivery']=df['delivery'].fillna('none')"
      ],
      "execution_count": 10,
      "outputs": []
    },
    {
      "cell_type": "code",
      "metadata": {
        "ExecuteTime": {
          "end_time": "2021-01-14T05:24:15.232550Z",
          "start_time": "2021-01-14T05:24:15.225568Z"
        },
        "colab": {
          "base_uri": "https://localhost:8080/"
        },
        "id": "PY8fRN4o2Nxi",
        "outputId": "4577878a-8442-4e04-e284-668ca53303b7"
      },
      "source": [
        "df.isnull().any()"
      ],
      "execution_count": 8,
      "outputs": [
        {
          "output_type": "execute_result",
          "data": {
            "text/plain": [
              "class0           False\n",
              "price            False\n",
              "rank1_list       False\n",
              "stars            False\n",
              "reviews          False\n",
              "delivery         False\n",
              "rank_big         False\n",
              "brand            False\n",
              "stock            False\n",
              "rank_big_up      False\n",
              "rank_big_down    False\n",
              "dtype: bool"
            ]
          },
          "metadata": {
            "tags": []
          },
          "execution_count": 8
        }
      ]
    },
    {
      "cell_type": "markdown",
      "metadata": {
        "id": "VamMj-Qm2Nxj"
      },
      "source": [
        "### 连续数值变量离散化\n",
        "包括：\n",
        "- 小类排名：小于10，大于10\n",
        "- reviews评论：按照50,100,300,1000,1500,2000和大于2000\n",
        "- 价格：按照0-180内每隔20划分，大于180是一个\n",
        "- stars：0,1,2,3,4,5\n",
        "\n",
        "主要用到了pandas中的`pd.cut(Series,bins,labels)`函数，其中，`bins`是区间，`labels`是区间的标签名称\n",
        "\n",
        "在这里，我们用到了pandas处理数据的最常用工具之一`apply`函数，它是pandas里自由度最高的函数之一，也是我们在用pandas处理数据时使用频率最高的函数，它的作用是高效的将某一个方法（函数）作用于pandas某一行或是某一列的每一个值。\n",
        "\n",
        "用法如下，`DataFrame.apply(func, axis=0, broadcast=False, raw=False, reduce=None, args=(), **kwds)`，其中，`func`是函数，可以是pandas自带的，也可以是自己编写的，也可以是lambda匿名函数，这三种方法，我们在之后的数据处理过程中都会用到。axis是作用于行与列，`axis=1`，则是把一行数据传入函数中，`axis=0`是把一列数据传入函数中。"
      ]
    },
    {
      "cell_type": "code",
      "metadata": {
        "ExecuteTime": {
          "end_time": "2021-01-14T05:24:30.979075Z",
          "start_time": "2021-01-14T05:24:30.960126Z"
        },
        "scrolled": true,
        "id": "gD1axtGF2Nxj"
      },
      "source": [
        "df_clean=df.copy()\n",
        "# \n",
        "df_clean['rank1_list_cut']=df_clean['rank1_list'].apply(lambda x:'<=10'if x<=10 else '>10')\n",
        "#连续数值变量离散化\n",
        "#分项看 reveiws\n",
        "df_clean['reviews_cut']=pd.cut(df_clean['reviews'].apply(int),bins=[0,50,100,300,1000,1500,2000,1000000],right=False,labels=['0-50','50-100','100-300','300-1000','1000-1500','1500-2000','>2000'])\n",
        "# price\n",
        "df_clean['price_cut']=pd.cut(df_clean['price'].apply(int),bins=[0,20,40,60,80,100,120,140,160,180,1000000],right=False,labels=['0-20','20-40','40-60','60-80','80-100','100-120','120-140','140-160','160-180','>180'])\n",
        "# stars\n",
        "df_clean['stars_cut']=pd.cut(df_clean['stars'].apply(float),bins=[0,1,2,3,4,5,6],right=False,labels=['0-1','1-2','2-3','3-4','4-5','5'])\n",
        "#排名\n",
        "df_clean['rank_big_cut']=pd.cut(df_clean['rank_big'].apply(float),bins=[0,500,1000,5000,10000,50000,100000,10000000],right=False,labels=['0-500','500-1000','1000-5000','5000-10000','10000-50000','50000-100000','>100000'])"
      ],
      "execution_count": 11,
      "outputs": []
    },
    {
      "cell_type": "code",
      "metadata": {
        "ExecuteTime": {
          "end_time": "2021-01-14T05:24:31.705135Z",
          "start_time": "2021-01-14T05:24:31.685187Z"
        },
        "colab": {
          "base_uri": "https://localhost:8080/",
          "height": 499
        },
        "id": "tu5gFyGe2Nxk",
        "outputId": "e0b8d8d9-d66d-4984-9844-3e5b40f19127"
      },
      "source": [
        "df_clean.head()"
      ],
      "execution_count": 12,
      "outputs": [
        {
          "output_type": "execute_result",
          "data": {
            "text/html": [
              "<div>\n",
              "<style scoped>\n",
              "    .dataframe tbody tr th:only-of-type {\n",
              "        vertical-align: middle;\n",
              "    }\n",
              "\n",
              "    .dataframe tbody tr th {\n",
              "        vertical-align: top;\n",
              "    }\n",
              "\n",
              "    .dataframe thead th {\n",
              "        text-align: right;\n",
              "    }\n",
              "</style>\n",
              "<table border=\"1\" class=\"dataframe\">\n",
              "  <thead>\n",
              "    <tr style=\"text-align: right;\">\n",
              "      <th></th>\n",
              "      <th>class0</th>\n",
              "      <th>price</th>\n",
              "      <th>rank1_list</th>\n",
              "      <th>stars</th>\n",
              "      <th>reviews</th>\n",
              "      <th>delivery</th>\n",
              "      <th>rank_big</th>\n",
              "      <th>brand</th>\n",
              "      <th>stock</th>\n",
              "      <th>rank_big_up</th>\n",
              "      <th>rank_big_down</th>\n",
              "      <th>rank1_list_cut</th>\n",
              "      <th>reviews_cut</th>\n",
              "      <th>price_cut</th>\n",
              "      <th>stars_cut</th>\n",
              "      <th>rank_big_cut</th>\n",
              "    </tr>\n",
              "  </thead>\n",
              "  <tbody>\n",
              "    <tr>\n",
              "      <th>0</th>\n",
              "      <td>x1</td>\n",
              "      <td>180.00</td>\n",
              "      <td>1.0</td>\n",
              "      <td>4.4</td>\n",
              "      <td>6442.0</td>\n",
              "      <td>Sold by Furbo and Fulfilled by Amazon.</td>\n",
              "      <td>287.0</td>\n",
              "      <td>Furbo</td>\n",
              "      <td>In Stock.</td>\n",
              "      <td>287.0</td>\n",
              "      <td>287.0</td>\n",
              "      <td>&lt;=10</td>\n",
              "      <td>&gt;2000</td>\n",
              "      <td>&gt;180</td>\n",
              "      <td>4-5</td>\n",
              "      <td>0-500</td>\n",
              "    </tr>\n",
              "    <tr>\n",
              "      <th>1</th>\n",
              "      <td>x1</td>\n",
              "      <td>32.99</td>\n",
              "      <td>2.0</td>\n",
              "      <td>3.9</td>\n",
              "      <td>1839.0</td>\n",
              "      <td>Sold by Trekking tribe and Fulfilled by Amazon.</td>\n",
              "      <td>1310.0</td>\n",
              "      <td>TOOGE</td>\n",
              "      <td>In Stock.</td>\n",
              "      <td>1310.0</td>\n",
              "      <td>1310.0</td>\n",
              "      <td>&lt;=10</td>\n",
              "      <td>1500-2000</td>\n",
              "      <td>20-40</td>\n",
              "      <td>3-4</td>\n",
              "      <td>1000-5000</td>\n",
              "    </tr>\n",
              "    <tr>\n",
              "      <th>2</th>\n",
              "      <td>x1</td>\n",
              "      <td>29.99</td>\n",
              "      <td>3.0</td>\n",
              "      <td>4.2</td>\n",
              "      <td>2032.0</td>\n",
              "      <td>Sold by FORamerica and Fulfilled by Amazon.</td>\n",
              "      <td>4657.0</td>\n",
              "      <td>BOOCOSA-US</td>\n",
              "      <td>In Stock.</td>\n",
              "      <td>4657.0</td>\n",
              "      <td>4657.0</td>\n",
              "      <td>&lt;=10</td>\n",
              "      <td>&gt;2000</td>\n",
              "      <td>20-40</td>\n",
              "      <td>4-5</td>\n",
              "      <td>1000-5000</td>\n",
              "    </tr>\n",
              "    <tr>\n",
              "      <th>3</th>\n",
              "      <td>x1</td>\n",
              "      <td>139.95</td>\n",
              "      <td>4.0</td>\n",
              "      <td>4.4</td>\n",
              "      <td>376.0</td>\n",
              "      <td>Sold by Petkey and Fulfilled by Amazon.</td>\n",
              "      <td>8004.0</td>\n",
              "      <td>WOPET</td>\n",
              "      <td>In Stock.</td>\n",
              "      <td>8004.0</td>\n",
              "      <td>8004.0</td>\n",
              "      <td>&lt;=10</td>\n",
              "      <td>300-1000</td>\n",
              "      <td>120-140</td>\n",
              "      <td>4-5</td>\n",
              "      <td>5000-10000</td>\n",
              "    </tr>\n",
              "    <tr>\n",
              "      <th>4</th>\n",
              "      <td>x1</td>\n",
              "      <td>29.99</td>\n",
              "      <td>5.0</td>\n",
              "      <td>3.8</td>\n",
              "      <td>322.0</td>\n",
              "      <td>Sold by VI-SON and Fulfilled by Amazon.</td>\n",
              "      <td>9203.0</td>\n",
              "      <td>VINSION</td>\n",
              "      <td>In Stock.</td>\n",
              "      <td>9203.0</td>\n",
              "      <td>9203.0</td>\n",
              "      <td>&lt;=10</td>\n",
              "      <td>300-1000</td>\n",
              "      <td>20-40</td>\n",
              "      <td>3-4</td>\n",
              "      <td>5000-10000</td>\n",
              "    </tr>\n",
              "  </tbody>\n",
              "</table>\n",
              "</div>"
            ],
            "text/plain": [
              "  class0   price  rank1_list  ...  price_cut  stars_cut rank_big_cut\n",
              "0     x1  180.00         1.0  ...       >180        4-5        0-500\n",
              "1     x1   32.99         2.0  ...      20-40        3-4    1000-5000\n",
              "2     x1   29.99         3.0  ...      20-40        4-5    1000-5000\n",
              "3     x1  139.95         4.0  ...    120-140        4-5   5000-10000\n",
              "4     x1   29.99         5.0  ...      20-40        3-4   5000-10000\n",
              "\n",
              "[5 rows x 16 columns]"
            ]
          },
          "metadata": {
            "tags": []
          },
          "execution_count": 12
        }
      ]
    },
    {
      "cell_type": "markdown",
      "metadata": {
        "id": "RHkRZlFR2Nxl"
      },
      "source": [
        "由于此处的离散变量带有序列性质，后期我们会根据它们的值来进行计算，所以，我们需要用`df.cat.codes`来获取序列变量的值\n",
        "\n",
        "其中，根据之前讲解，reviews和排名（rank）是越高，对运营越不利；price和stars则相反，所以我们需要把它们同向化"
      ]
    },
    {
      "cell_type": "code",
      "metadata": {
        "ExecuteTime": {
          "end_time": "2021-01-14T05:24:44.254106Z",
          "start_time": "2021-01-14T05:24:44.222679Z"
        },
        "scrolled": true,
        "colab": {
          "base_uri": "https://localhost:8080/",
          "height": 499
        },
        "id": "Dd-T7Imt2Nxl",
        "outputId": "029804a0-fb27-445a-b86e-374b9553e8fc"
      },
      "source": [
        "df_clean['price_cut_n']=df_clean['price_cut'].cat.codes+1\n",
        "df_clean['reviews_cut_n']=7-df_clean['reviews_cut'].cat.codes\n",
        "df_clean['price_cut_n']=df_clean['price_cut'].cat.codes+1\n",
        "df_clean['stars_cut_n']=df_clean['stars_cut'].cat.codes+1\n",
        "df_clean['rank_big_cut_n']=7-df_clean['rank_big_cut'].cat.codes\n",
        "df_clean.head()"
      ],
      "execution_count": 14,
      "outputs": [
        {
          "output_type": "execute_result",
          "data": {
            "text/html": [
              "<div>\n",
              "<style scoped>\n",
              "    .dataframe tbody tr th:only-of-type {\n",
              "        vertical-align: middle;\n",
              "    }\n",
              "\n",
              "    .dataframe tbody tr th {\n",
              "        vertical-align: top;\n",
              "    }\n",
              "\n",
              "    .dataframe thead th {\n",
              "        text-align: right;\n",
              "    }\n",
              "</style>\n",
              "<table border=\"1\" class=\"dataframe\">\n",
              "  <thead>\n",
              "    <tr style=\"text-align: right;\">\n",
              "      <th></th>\n",
              "      <th>class0</th>\n",
              "      <th>price</th>\n",
              "      <th>rank1_list</th>\n",
              "      <th>stars</th>\n",
              "      <th>reviews</th>\n",
              "      <th>delivery</th>\n",
              "      <th>rank_big</th>\n",
              "      <th>brand</th>\n",
              "      <th>stock</th>\n",
              "      <th>rank_big_up</th>\n",
              "      <th>rank_big_down</th>\n",
              "      <th>rank1_list_cut</th>\n",
              "      <th>reviews_cut</th>\n",
              "      <th>price_cut</th>\n",
              "      <th>stars_cut</th>\n",
              "      <th>rank_big_cut</th>\n",
              "      <th>price_cut_n</th>\n",
              "      <th>reviews_cut_n</th>\n",
              "      <th>stars_cut_n</th>\n",
              "      <th>rank_big_cut_n</th>\n",
              "    </tr>\n",
              "  </thead>\n",
              "  <tbody>\n",
              "    <tr>\n",
              "      <th>0</th>\n",
              "      <td>x1</td>\n",
              "      <td>180.00</td>\n",
              "      <td>1.0</td>\n",
              "      <td>4.4</td>\n",
              "      <td>6442.0</td>\n",
              "      <td>Sold by Furbo and Fulfilled by Amazon.</td>\n",
              "      <td>287.0</td>\n",
              "      <td>Furbo</td>\n",
              "      <td>In Stock.</td>\n",
              "      <td>287.0</td>\n",
              "      <td>287.0</td>\n",
              "      <td>&lt;=10</td>\n",
              "      <td>&gt;2000</td>\n",
              "      <td>&gt;180</td>\n",
              "      <td>4-5</td>\n",
              "      <td>0-500</td>\n",
              "      <td>10</td>\n",
              "      <td>1</td>\n",
              "      <td>5</td>\n",
              "      <td>7</td>\n",
              "    </tr>\n",
              "    <tr>\n",
              "      <th>1</th>\n",
              "      <td>x1</td>\n",
              "      <td>32.99</td>\n",
              "      <td>2.0</td>\n",
              "      <td>3.9</td>\n",
              "      <td>1839.0</td>\n",
              "      <td>Sold by Trekking tribe and Fulfilled by Amazon.</td>\n",
              "      <td>1310.0</td>\n",
              "      <td>TOOGE</td>\n",
              "      <td>In Stock.</td>\n",
              "      <td>1310.0</td>\n",
              "      <td>1310.0</td>\n",
              "      <td>&lt;=10</td>\n",
              "      <td>1500-2000</td>\n",
              "      <td>20-40</td>\n",
              "      <td>3-4</td>\n",
              "      <td>1000-5000</td>\n",
              "      <td>2</td>\n",
              "      <td>2</td>\n",
              "      <td>4</td>\n",
              "      <td>5</td>\n",
              "    </tr>\n",
              "    <tr>\n",
              "      <th>2</th>\n",
              "      <td>x1</td>\n",
              "      <td>29.99</td>\n",
              "      <td>3.0</td>\n",
              "      <td>4.2</td>\n",
              "      <td>2032.0</td>\n",
              "      <td>Sold by FORamerica and Fulfilled by Amazon.</td>\n",
              "      <td>4657.0</td>\n",
              "      <td>BOOCOSA-US</td>\n",
              "      <td>In Stock.</td>\n",
              "      <td>4657.0</td>\n",
              "      <td>4657.0</td>\n",
              "      <td>&lt;=10</td>\n",
              "      <td>&gt;2000</td>\n",
              "      <td>20-40</td>\n",
              "      <td>4-5</td>\n",
              "      <td>1000-5000</td>\n",
              "      <td>2</td>\n",
              "      <td>1</td>\n",
              "      <td>5</td>\n",
              "      <td>5</td>\n",
              "    </tr>\n",
              "    <tr>\n",
              "      <th>3</th>\n",
              "      <td>x1</td>\n",
              "      <td>139.95</td>\n",
              "      <td>4.0</td>\n",
              "      <td>4.4</td>\n",
              "      <td>376.0</td>\n",
              "      <td>Sold by Petkey and Fulfilled by Amazon.</td>\n",
              "      <td>8004.0</td>\n",
              "      <td>WOPET</td>\n",
              "      <td>In Stock.</td>\n",
              "      <td>8004.0</td>\n",
              "      <td>8004.0</td>\n",
              "      <td>&lt;=10</td>\n",
              "      <td>300-1000</td>\n",
              "      <td>120-140</td>\n",
              "      <td>4-5</td>\n",
              "      <td>5000-10000</td>\n",
              "      <td>7</td>\n",
              "      <td>4</td>\n",
              "      <td>5</td>\n",
              "      <td>4</td>\n",
              "    </tr>\n",
              "    <tr>\n",
              "      <th>4</th>\n",
              "      <td>x1</td>\n",
              "      <td>29.99</td>\n",
              "      <td>5.0</td>\n",
              "      <td>3.8</td>\n",
              "      <td>322.0</td>\n",
              "      <td>Sold by VI-SON and Fulfilled by Amazon.</td>\n",
              "      <td>9203.0</td>\n",
              "      <td>VINSION</td>\n",
              "      <td>In Stock.</td>\n",
              "      <td>9203.0</td>\n",
              "      <td>9203.0</td>\n",
              "      <td>&lt;=10</td>\n",
              "      <td>300-1000</td>\n",
              "      <td>20-40</td>\n",
              "      <td>3-4</td>\n",
              "      <td>5000-10000</td>\n",
              "      <td>2</td>\n",
              "      <td>4</td>\n",
              "      <td>4</td>\n",
              "      <td>4</td>\n",
              "    </tr>\n",
              "  </tbody>\n",
              "</table>\n",
              "</div>"
            ],
            "text/plain": [
              "  class0   price  rank1_list  ...  reviews_cut_n  stars_cut_n rank_big_cut_n\n",
              "0     x1  180.00         1.0  ...              1            5              7\n",
              "1     x1   32.99         2.0  ...              2            4              5\n",
              "2     x1   29.99         3.0  ...              1            5              5\n",
              "3     x1  139.95         4.0  ...              4            5              4\n",
              "4     x1   29.99         5.0  ...              4            4              4\n",
              "\n",
              "[5 rows x 20 columns]"
            ]
          },
          "metadata": {
            "tags": []
          },
          "execution_count": 14
        }
      ]
    },
    {
      "cell_type": "markdown",
      "metadata": {
        "id": "eC4fTx162Nxm"
      },
      "source": [
        "## 第四步 确定并实现指标体系\n",
        "### 指标体系的计算"
      ]
    },
    {
      "cell_type": "markdown",
      "metadata": {
        "id": "3kOf2uG72Nxm"
      },
      "source": [
        "在这里，我们需要引入一个新的函数groupby，以及apply的加强版agg函数，通常，apply是与groupby连用的\n",
        "\n",
        "groupby+apply，可以极大的提高我们处理数据的效率，刚开始可能大家用的不熟练，但是等熟悉之后，就会发现它的好处\n",
        "\n",
        "另外，就是apply的进阶版，agg函数，它是能指定轴上的一个或多个操作进行聚合，同样默认为是列轴。常见用法：`df_columns=df.agg({'col1':[func1,func2],'col2':[func3,func4]})`"
      ]
    },
    {
      "cell_type": "code",
      "metadata": {
        "ExecuteTime": {
          "end_time": "2021-01-14T05:25:46.372561Z",
          "start_time": "2021-01-14T05:25:46.365580Z"
        },
        "scrolled": true,
        "colab": {
          "base_uri": "https://localhost:8080/"
        },
        "id": "lhdPw-oS2Nxn",
        "outputId": "db775a68-50f3-4afc-dc45-4754e092af74"
      },
      "source": [
        "df_clean['brand'].value_counts()"
      ],
      "execution_count": 18,
      "outputs": [
        {
          "output_type": "execute_result",
          "data": {
            "text/plain": [
              "Petcube         4\n",
              "SKYMEE          4\n",
              "DOGNESS         4\n",
              "TOOGE           3\n",
              "VINSION         2\n",
              "PetChatz        2\n",
              "DOGCOOL         2\n",
              "VIMTAG          2\n",
              "AONESY          2\n",
              "hosecurity      2\n",
              "DEYAN           2\n",
              "TAOCOCO         1\n",
              "RVA Camworks    1\n",
              "VSTARCAM        1\n",
              "GevTa           1\n",
              "Homenhancing    1\n",
              "BOOCOSA-US      1\n",
              "DADYPET         1\n",
              "Furbo           1\n",
              "NPET            1\n",
              "TESECU          1\n",
              "Tiscen          1\n",
              "YI              1\n",
              "Mliyam          1\n",
              "WOPET           1\n",
              "FitBark         1\n",
              "RV PetSafety    1\n",
              "Iseebiz         1\n",
              "DEATTI          1\n",
              "RCA             1\n",
              "Pawbo           1\n",
              "Name: brand, dtype: int64"
            ]
          },
          "metadata": {
            "tags": []
          },
          "execution_count": 18
        }
      ]
    },
    {
      "cell_type": "markdown",
      "metadata": {
        "id": "xTWAIi2m2Nxo"
      },
      "source": [
        "- 构造函数，并计算各个指标\n",
        "\n",
        "![lesson1-3-2.png](attachment:lesson1-3-2.png)"
      ]
    },
    {
      "cell_type": "markdown",
      "metadata": {
        "id": "LUVUyhgc2Nxo"
      },
      "source": [
        "- 求集中度，逻辑是频数最高的类别\n",
        "\n",
        "用到了`Series.value_counts()`函数，其中`ascending=False`是倒序排列，取最大值即类别最高的\n",
        "\n",
        "- 求分位数？为什么用分位数而不直接用平均值？\n",
        "\n",
        "用到了`quantile([0.2,0.4,0.8])`函数，其中列表里是在不同百分比下所有数值由小到大排列后前百分位数的数字\n"
      ]
    },
    {
      "cell_type": "code",
      "metadata": {
        "ExecuteTime": {
          "end_time": "2021-01-14T05:40:19.722440Z",
          "start_time": "2021-01-14T05:40:19.636164Z"
        },
        "scrolled": true,
        "colab": {
          "base_uri": "https://localhost:8080/",
          "height": 230
        },
        "id": "bggdF3Nm2Nxp",
        "outputId": "f2e77acb-90ab-4d69-c184-4275e54edd01"
      },
      "source": [
        "# 拉平之前\n",
        "def get_most_count2(n):\n",
        "    counts=n.value_counts(ascending=False)\n",
        "    name=n.value_counts(ascending=False).index[0]\n",
        "    num=n.value_counts(ascending=False).values[0]\n",
        "    r=num/sum(counts)\n",
        "    return name,num,r\n",
        "    \n",
        "def get_quantile(n):\n",
        "    return list(n.quantile([0,0.2,0.5,0.8,1]))\n",
        "\n",
        "\n",
        "feature={\n",
        "            'class0':'count',\n",
        "            'price_cut_n':get_most_count2,\n",
        "            'price':['mean','median','max','min',get_quantile],\n",
        "            'reviews_cut_n':get_most_count2,\n",
        "            'reviews':['mean','median','max','min',get_quantile],\n",
        "            'stars_cut_n':get_most_count2,\n",
        "            'stars':['mean','median','max','min',get_quantile],\n",
        "            'rank_big_cut_n':get_most_count2,\n",
        "            'rank_big':['mean','median','max','min',get_quantile]\n",
        "        }\n",
        "\n",
        "df_clean[['price','stars','reviews']]=df_clean[['price','stars','reviews']].apply(pd.to_numeric)\n",
        "df_sample=df_clean.groupby('class0').agg(feature)\n",
        "df_sample.head()"
      ],
      "execution_count": 19,
      "outputs": [
        {
          "output_type": "execute_result",
          "data": {
            "text/html": [
              "<div>\n",
              "<style scoped>\n",
              "    .dataframe tbody tr th:only-of-type {\n",
              "        vertical-align: middle;\n",
              "    }\n",
              "\n",
              "    .dataframe tbody tr th {\n",
              "        vertical-align: top;\n",
              "    }\n",
              "\n",
              "    .dataframe thead tr th {\n",
              "        text-align: left;\n",
              "    }\n",
              "\n",
              "    .dataframe thead tr:last-of-type th {\n",
              "        text-align: right;\n",
              "    }\n",
              "</style>\n",
              "<table border=\"1\" class=\"dataframe\">\n",
              "  <thead>\n",
              "    <tr>\n",
              "      <th></th>\n",
              "      <th>class0</th>\n",
              "      <th>price_cut_n</th>\n",
              "      <th colspan=\"5\" halign=\"left\">price</th>\n",
              "      <th>reviews_cut_n</th>\n",
              "      <th colspan=\"5\" halign=\"left\">reviews</th>\n",
              "      <th>stars_cut_n</th>\n",
              "      <th colspan=\"5\" halign=\"left\">stars</th>\n",
              "      <th>rank_big_cut_n</th>\n",
              "      <th colspan=\"5\" halign=\"left\">rank_big</th>\n",
              "    </tr>\n",
              "    <tr>\n",
              "      <th></th>\n",
              "      <th>count</th>\n",
              "      <th>get_most_count2</th>\n",
              "      <th>mean</th>\n",
              "      <th>median</th>\n",
              "      <th>max</th>\n",
              "      <th>min</th>\n",
              "      <th>get_quantile</th>\n",
              "      <th>get_most_count2</th>\n",
              "      <th>mean</th>\n",
              "      <th>median</th>\n",
              "      <th>max</th>\n",
              "      <th>min</th>\n",
              "      <th>get_quantile</th>\n",
              "      <th>get_most_count2</th>\n",
              "      <th>mean</th>\n",
              "      <th>median</th>\n",
              "      <th>max</th>\n",
              "      <th>min</th>\n",
              "      <th>get_quantile</th>\n",
              "      <th>get_most_count2</th>\n",
              "      <th>mean</th>\n",
              "      <th>median</th>\n",
              "      <th>max</th>\n",
              "      <th>min</th>\n",
              "      <th>get_quantile</th>\n",
              "    </tr>\n",
              "    <tr>\n",
              "      <th>class0</th>\n",
              "      <th></th>\n",
              "      <th></th>\n",
              "      <th></th>\n",
              "      <th></th>\n",
              "      <th></th>\n",
              "      <th></th>\n",
              "      <th></th>\n",
              "      <th></th>\n",
              "      <th></th>\n",
              "      <th></th>\n",
              "      <th></th>\n",
              "      <th></th>\n",
              "      <th></th>\n",
              "      <th></th>\n",
              "      <th></th>\n",
              "      <th></th>\n",
              "      <th></th>\n",
              "      <th></th>\n",
              "      <th></th>\n",
              "      <th></th>\n",
              "      <th></th>\n",
              "      <th></th>\n",
              "      <th></th>\n",
              "      <th></th>\n",
              "      <th></th>\n",
              "    </tr>\n",
              "  </thead>\n",
              "  <tbody>\n",
              "    <tr>\n",
              "      <th>x1</th>\n",
              "      <td>49</td>\n",
              "      <td>(2, 17, 0.3469387755102041)</td>\n",
              "      <td>94.396531</td>\n",
              "      <td>69.87</td>\n",
              "      <td>280.49</td>\n",
              "      <td>18.56</td>\n",
              "      <td>[18.56, 31.596, 69.87, 170.75, 280.49]</td>\n",
              "      <td>(7, 23, 0.46938775510204084)</td>\n",
              "      <td>310.632653</td>\n",
              "      <td>57.0</td>\n",
              "      <td>6442.0</td>\n",
              "      <td>0.0</td>\n",
              "      <td>[0.0, 8.0, 57.0, 180.20000000000024, 6442.0]</td>\n",
              "      <td>(5, 27, 0.5510204081632653)</td>\n",
              "      <td>3.993878</td>\n",
              "      <td>4.1</td>\n",
              "      <td>5.0</td>\n",
              "      <td>0.0</td>\n",
              "      <td>[0.0, 3.7, 4.1, 4.4, 5.0]</td>\n",
              "      <td>(3, 22, 0.4489795918367347)</td>\n",
              "      <td>50056.132653</td>\n",
              "      <td>43569.0</td>\n",
              "      <td>107079.0</td>\n",
              "      <td>287.0</td>\n",
              "      <td>[287.0, 18666.4, 43569.0, 82578.1, 107079.0]</td>\n",
              "    </tr>\n",
              "  </tbody>\n",
              "</table>\n",
              "</div>"
            ],
            "text/plain": [
              "       class0  ...                                      rank_big\n",
              "        count  ...                                  get_quantile\n",
              "class0         ...                                              \n",
              "x1         49  ...  [287.0, 18666.4, 43569.0, 82578.1, 107079.0]\n",
              "\n",
              "[1 rows x 25 columns]"
            ]
          },
          "metadata": {
            "tags": []
          },
          "execution_count": 19
        }
      ]
    },
    {
      "cell_type": "code",
      "metadata": {
        "ExecuteTime": {
          "end_time": "2021-01-14T05:40:28.934333Z",
          "start_time": "2021-01-14T05:40:28.874985Z"
        },
        "colab": {
          "base_uri": "https://localhost:8080/",
          "height": 147
        },
        "id": "6Xq_rFHm2Nxp",
        "outputId": "cefb4098-faa5-46f7-e072-d1ff31b7da5d"
      },
      "source": [
        "# 名称拉平\n",
        "df_new=df_sample.copy()\n",
        "for col_num,col_name in enumerate(df_sample):\n",
        "    if col_name in [('price_cut_n', 'get_most_count2'),('reviews_cut_n', 'get_most_count2'),('stars_cut_n', 'get_most_count2'),('rank_big_cut_n', 'get_most_count2')]:\n",
        "        p=df_sample[col_name].apply(pd.Series)\n",
        "        p.columns=[col_name[0]+'_most',col_name[0]+'_most_count',col_name[0]+'_most_ratio']\n",
        "        # 重新聚合\n",
        "        df_new=pd.concat([df_new.drop(col_name,axis=1),p],axis=1)\n",
        "    elif col_name in [('rank_big', 'get_quantile'),('price', 'get_quantile'),('reviews', 'get_quantile'),('stars', 'get_quantile')]:\n",
        "        p2=df_sample[col_name].apply(pd.Series)\n",
        "        p2.columns=[col_name[0]+'_0',col_name[0]+'_20',col_name[0]+'_40',col_name[0]+'_80',col_name[0]+'_100']\n",
        "        df_new=pd.concat([df_new.drop(col_name,axis=1),p2],axis=1)\n",
        "name=[]\n",
        "for i in df_new.columns:\n",
        "    if isinstance(i,tuple):\n",
        "        name.append(i[0]+'-'+i[1])\n",
        "    else:\n",
        "        name.append(i)\n",
        "df_new.columns=[i+'_top_50' for i in name]\n",
        "df_new"
      ],
      "execution_count": 20,
      "outputs": [
        {
          "output_type": "execute_result",
          "data": {
            "text/html": [
              "<div>\n",
              "<style scoped>\n",
              "    .dataframe tbody tr th:only-of-type {\n",
              "        vertical-align: middle;\n",
              "    }\n",
              "\n",
              "    .dataframe tbody tr th {\n",
              "        vertical-align: top;\n",
              "    }\n",
              "\n",
              "    .dataframe thead th {\n",
              "        text-align: right;\n",
              "    }\n",
              "</style>\n",
              "<table border=\"1\" class=\"dataframe\">\n",
              "  <thead>\n",
              "    <tr style=\"text-align: right;\">\n",
              "      <th></th>\n",
              "      <th>class0-count_top_50</th>\n",
              "      <th>price-mean_top_50</th>\n",
              "      <th>price-median_top_50</th>\n",
              "      <th>price-max_top_50</th>\n",
              "      <th>price-min_top_50</th>\n",
              "      <th>reviews-mean_top_50</th>\n",
              "      <th>reviews-median_top_50</th>\n",
              "      <th>reviews-max_top_50</th>\n",
              "      <th>reviews-min_top_50</th>\n",
              "      <th>stars-mean_top_50</th>\n",
              "      <th>stars-median_top_50</th>\n",
              "      <th>stars-max_top_50</th>\n",
              "      <th>stars-min_top_50</th>\n",
              "      <th>rank_big-mean_top_50</th>\n",
              "      <th>rank_big-median_top_50</th>\n",
              "      <th>rank_big-max_top_50</th>\n",
              "      <th>rank_big-min_top_50</th>\n",
              "      <th>price_cut_n_most_top_50</th>\n",
              "      <th>price_cut_n_most_count_top_50</th>\n",
              "      <th>price_cut_n_most_ratio_top_50</th>\n",
              "      <th>price_0_top_50</th>\n",
              "      <th>price_20_top_50</th>\n",
              "      <th>price_40_top_50</th>\n",
              "      <th>price_80_top_50</th>\n",
              "      <th>price_100_top_50</th>\n",
              "      <th>reviews_cut_n_most_top_50</th>\n",
              "      <th>reviews_cut_n_most_count_top_50</th>\n",
              "      <th>reviews_cut_n_most_ratio_top_50</th>\n",
              "      <th>reviews_0_top_50</th>\n",
              "      <th>reviews_20_top_50</th>\n",
              "      <th>reviews_40_top_50</th>\n",
              "      <th>reviews_80_top_50</th>\n",
              "      <th>reviews_100_top_50</th>\n",
              "      <th>stars_cut_n_most_top_50</th>\n",
              "      <th>stars_cut_n_most_count_top_50</th>\n",
              "      <th>stars_cut_n_most_ratio_top_50</th>\n",
              "      <th>stars_0_top_50</th>\n",
              "      <th>stars_20_top_50</th>\n",
              "      <th>stars_40_top_50</th>\n",
              "      <th>stars_80_top_50</th>\n",
              "      <th>stars_100_top_50</th>\n",
              "      <th>rank_big_cut_n_most_top_50</th>\n",
              "      <th>rank_big_cut_n_most_count_top_50</th>\n",
              "      <th>rank_big_cut_n_most_ratio_top_50</th>\n",
              "      <th>rank_big_0_top_50</th>\n",
              "      <th>rank_big_20_top_50</th>\n",
              "      <th>rank_big_40_top_50</th>\n",
              "      <th>rank_big_80_top_50</th>\n",
              "      <th>rank_big_100_top_50</th>\n",
              "    </tr>\n",
              "    <tr>\n",
              "      <th>class0</th>\n",
              "      <th></th>\n",
              "      <th></th>\n",
              "      <th></th>\n",
              "      <th></th>\n",
              "      <th></th>\n",
              "      <th></th>\n",
              "      <th></th>\n",
              "      <th></th>\n",
              "      <th></th>\n",
              "      <th></th>\n",
              "      <th></th>\n",
              "      <th></th>\n",
              "      <th></th>\n",
              "      <th></th>\n",
              "      <th></th>\n",
              "      <th></th>\n",
              "      <th></th>\n",
              "      <th></th>\n",
              "      <th></th>\n",
              "      <th></th>\n",
              "      <th></th>\n",
              "      <th></th>\n",
              "      <th></th>\n",
              "      <th></th>\n",
              "      <th></th>\n",
              "      <th></th>\n",
              "      <th></th>\n",
              "      <th></th>\n",
              "      <th></th>\n",
              "      <th></th>\n",
              "      <th></th>\n",
              "      <th></th>\n",
              "      <th></th>\n",
              "      <th></th>\n",
              "      <th></th>\n",
              "      <th></th>\n",
              "      <th></th>\n",
              "      <th></th>\n",
              "      <th></th>\n",
              "      <th></th>\n",
              "      <th></th>\n",
              "      <th></th>\n",
              "      <th></th>\n",
              "      <th></th>\n",
              "      <th></th>\n",
              "      <th></th>\n",
              "      <th></th>\n",
              "      <th></th>\n",
              "      <th></th>\n",
              "    </tr>\n",
              "  </thead>\n",
              "  <tbody>\n",
              "    <tr>\n",
              "      <th>x1</th>\n",
              "      <td>49</td>\n",
              "      <td>94.396531</td>\n",
              "      <td>69.87</td>\n",
              "      <td>280.49</td>\n",
              "      <td>18.56</td>\n",
              "      <td>310.632653</td>\n",
              "      <td>57.0</td>\n",
              "      <td>6442.0</td>\n",
              "      <td>0.0</td>\n",
              "      <td>3.993878</td>\n",
              "      <td>4.1</td>\n",
              "      <td>5.0</td>\n",
              "      <td>0.0</td>\n",
              "      <td>50056.132653</td>\n",
              "      <td>43569.0</td>\n",
              "      <td>107079.0</td>\n",
              "      <td>287.0</td>\n",
              "      <td>2.0</td>\n",
              "      <td>17.0</td>\n",
              "      <td>0.346939</td>\n",
              "      <td>18.56</td>\n",
              "      <td>31.596</td>\n",
              "      <td>69.87</td>\n",
              "      <td>170.75</td>\n",
              "      <td>280.49</td>\n",
              "      <td>7.0</td>\n",
              "      <td>23.0</td>\n",
              "      <td>0.469388</td>\n",
              "      <td>0.0</td>\n",
              "      <td>8.0</td>\n",
              "      <td>57.0</td>\n",
              "      <td>180.2</td>\n",
              "      <td>6442.0</td>\n",
              "      <td>5.0</td>\n",
              "      <td>27.0</td>\n",
              "      <td>0.55102</td>\n",
              "      <td>0.0</td>\n",
              "      <td>3.7</td>\n",
              "      <td>4.1</td>\n",
              "      <td>4.4</td>\n",
              "      <td>5.0</td>\n",
              "      <td>3.0</td>\n",
              "      <td>22.0</td>\n",
              "      <td>0.44898</td>\n",
              "      <td>287.0</td>\n",
              "      <td>18666.4</td>\n",
              "      <td>43569.0</td>\n",
              "      <td>82578.1</td>\n",
              "      <td>107079.0</td>\n",
              "    </tr>\n",
              "  </tbody>\n",
              "</table>\n",
              "</div>"
            ],
            "text/plain": [
              "        class0-count_top_50  ...  rank_big_100_top_50\n",
              "class0                       ...                     \n",
              "x1                       49  ...             107079.0\n",
              "\n",
              "[1 rows x 49 columns]"
            ]
          },
          "metadata": {
            "tags": []
          },
          "execution_count": 20
        }
      ]
    },
    {
      "cell_type": "code",
      "metadata": {
        "ExecuteTime": {
          "end_time": "2021-01-14T05:41:25.268905Z",
          "start_time": "2021-01-14T05:41:25.235487Z"
        },
        "colab": {
          "base_uri": "https://localhost:8080/",
          "height": 147
        },
        "id": "qZk1KW-y2Nxq",
        "outputId": "bcda083a-0b57-4796-eae3-7d29a2b9e177"
      },
      "source": [
        "df_new['amz']=len(df_clean[df_clean.delivery=='Ships from and sold by Amazon.com.'])/len(df_clean)\n",
        "df_new['delivery']=len(df_clean[df_clean['delivery'].str.contains('Fulfilled by Amazon')])/len(df_clean)\n",
        "\n",
        "#某类别下有多少品牌\n",
        "b1=df_clean['brand'].value_counts()\n",
        "b2=df_clean['brand'].value_counts(normalize=True)   \n",
        "df_new['brand_count']=len(b1)\n",
        "df_new['brand_top_ratio']=b2[0]\n",
        "\n",
        "df_new"
      ],
      "execution_count": 21,
      "outputs": [
        {
          "output_type": "execute_result",
          "data": {
            "text/html": [
              "<div>\n",
              "<style scoped>\n",
              "    .dataframe tbody tr th:only-of-type {\n",
              "        vertical-align: middle;\n",
              "    }\n",
              "\n",
              "    .dataframe tbody tr th {\n",
              "        vertical-align: top;\n",
              "    }\n",
              "\n",
              "    .dataframe thead th {\n",
              "        text-align: right;\n",
              "    }\n",
              "</style>\n",
              "<table border=\"1\" class=\"dataframe\">\n",
              "  <thead>\n",
              "    <tr style=\"text-align: right;\">\n",
              "      <th></th>\n",
              "      <th>class0-count_top_50</th>\n",
              "      <th>price-mean_top_50</th>\n",
              "      <th>price-median_top_50</th>\n",
              "      <th>price-max_top_50</th>\n",
              "      <th>price-min_top_50</th>\n",
              "      <th>reviews-mean_top_50</th>\n",
              "      <th>reviews-median_top_50</th>\n",
              "      <th>reviews-max_top_50</th>\n",
              "      <th>reviews-min_top_50</th>\n",
              "      <th>stars-mean_top_50</th>\n",
              "      <th>stars-median_top_50</th>\n",
              "      <th>stars-max_top_50</th>\n",
              "      <th>stars-min_top_50</th>\n",
              "      <th>rank_big-mean_top_50</th>\n",
              "      <th>rank_big-median_top_50</th>\n",
              "      <th>rank_big-max_top_50</th>\n",
              "      <th>rank_big-min_top_50</th>\n",
              "      <th>price_cut_n_most_top_50</th>\n",
              "      <th>price_cut_n_most_count_top_50</th>\n",
              "      <th>price_cut_n_most_ratio_top_50</th>\n",
              "      <th>price_0_top_50</th>\n",
              "      <th>price_20_top_50</th>\n",
              "      <th>price_40_top_50</th>\n",
              "      <th>price_80_top_50</th>\n",
              "      <th>price_100_top_50</th>\n",
              "      <th>reviews_cut_n_most_top_50</th>\n",
              "      <th>reviews_cut_n_most_count_top_50</th>\n",
              "      <th>reviews_cut_n_most_ratio_top_50</th>\n",
              "      <th>reviews_0_top_50</th>\n",
              "      <th>reviews_20_top_50</th>\n",
              "      <th>reviews_40_top_50</th>\n",
              "      <th>reviews_80_top_50</th>\n",
              "      <th>reviews_100_top_50</th>\n",
              "      <th>stars_cut_n_most_top_50</th>\n",
              "      <th>stars_cut_n_most_count_top_50</th>\n",
              "      <th>stars_cut_n_most_ratio_top_50</th>\n",
              "      <th>stars_0_top_50</th>\n",
              "      <th>stars_20_top_50</th>\n",
              "      <th>stars_40_top_50</th>\n",
              "      <th>stars_80_top_50</th>\n",
              "      <th>stars_100_top_50</th>\n",
              "      <th>rank_big_cut_n_most_top_50</th>\n",
              "      <th>rank_big_cut_n_most_count_top_50</th>\n",
              "      <th>rank_big_cut_n_most_ratio_top_50</th>\n",
              "      <th>rank_big_0_top_50</th>\n",
              "      <th>rank_big_20_top_50</th>\n",
              "      <th>rank_big_40_top_50</th>\n",
              "      <th>rank_big_80_top_50</th>\n",
              "      <th>rank_big_100_top_50</th>\n",
              "      <th>amz</th>\n",
              "      <th>delivery</th>\n",
              "      <th>brand_count</th>\n",
              "      <th>brand_top_ratio</th>\n",
              "    </tr>\n",
              "    <tr>\n",
              "      <th>class0</th>\n",
              "      <th></th>\n",
              "      <th></th>\n",
              "      <th></th>\n",
              "      <th></th>\n",
              "      <th></th>\n",
              "      <th></th>\n",
              "      <th></th>\n",
              "      <th></th>\n",
              "      <th></th>\n",
              "      <th></th>\n",
              "      <th></th>\n",
              "      <th></th>\n",
              "      <th></th>\n",
              "      <th></th>\n",
              "      <th></th>\n",
              "      <th></th>\n",
              "      <th></th>\n",
              "      <th></th>\n",
              "      <th></th>\n",
              "      <th></th>\n",
              "      <th></th>\n",
              "      <th></th>\n",
              "      <th></th>\n",
              "      <th></th>\n",
              "      <th></th>\n",
              "      <th></th>\n",
              "      <th></th>\n",
              "      <th></th>\n",
              "      <th></th>\n",
              "      <th></th>\n",
              "      <th></th>\n",
              "      <th></th>\n",
              "      <th></th>\n",
              "      <th></th>\n",
              "      <th></th>\n",
              "      <th></th>\n",
              "      <th></th>\n",
              "      <th></th>\n",
              "      <th></th>\n",
              "      <th></th>\n",
              "      <th></th>\n",
              "      <th></th>\n",
              "      <th></th>\n",
              "      <th></th>\n",
              "      <th></th>\n",
              "      <th></th>\n",
              "      <th></th>\n",
              "      <th></th>\n",
              "      <th></th>\n",
              "      <th></th>\n",
              "      <th></th>\n",
              "      <th></th>\n",
              "      <th></th>\n",
              "    </tr>\n",
              "  </thead>\n",
              "  <tbody>\n",
              "    <tr>\n",
              "      <th>x1</th>\n",
              "      <td>49</td>\n",
              "      <td>94.396531</td>\n",
              "      <td>69.87</td>\n",
              "      <td>280.49</td>\n",
              "      <td>18.56</td>\n",
              "      <td>310.632653</td>\n",
              "      <td>57.0</td>\n",
              "      <td>6442.0</td>\n",
              "      <td>0.0</td>\n",
              "      <td>3.993878</td>\n",
              "      <td>4.1</td>\n",
              "      <td>5.0</td>\n",
              "      <td>0.0</td>\n",
              "      <td>50056.132653</td>\n",
              "      <td>43569.0</td>\n",
              "      <td>107079.0</td>\n",
              "      <td>287.0</td>\n",
              "      <td>2.0</td>\n",
              "      <td>17.0</td>\n",
              "      <td>0.346939</td>\n",
              "      <td>18.56</td>\n",
              "      <td>31.596</td>\n",
              "      <td>69.87</td>\n",
              "      <td>170.75</td>\n",
              "      <td>280.49</td>\n",
              "      <td>7.0</td>\n",
              "      <td>23.0</td>\n",
              "      <td>0.469388</td>\n",
              "      <td>0.0</td>\n",
              "      <td>8.0</td>\n",
              "      <td>57.0</td>\n",
              "      <td>180.2</td>\n",
              "      <td>6442.0</td>\n",
              "      <td>5.0</td>\n",
              "      <td>27.0</td>\n",
              "      <td>0.55102</td>\n",
              "      <td>0.0</td>\n",
              "      <td>3.7</td>\n",
              "      <td>4.1</td>\n",
              "      <td>4.4</td>\n",
              "      <td>5.0</td>\n",
              "      <td>3.0</td>\n",
              "      <td>22.0</td>\n",
              "      <td>0.44898</td>\n",
              "      <td>287.0</td>\n",
              "      <td>18666.4</td>\n",
              "      <td>43569.0</td>\n",
              "      <td>82578.1</td>\n",
              "      <td>107079.0</td>\n",
              "      <td>0.0</td>\n",
              "      <td>0.897959</td>\n",
              "      <td>31</td>\n",
              "      <td>0.081633</td>\n",
              "    </tr>\n",
              "  </tbody>\n",
              "</table>\n",
              "</div>"
            ],
            "text/plain": [
              "        class0-count_top_50  price-mean_top_50  ...  brand_count  brand_top_ratio\n",
              "class0                                          ...                              \n",
              "x1                       49          94.396531  ...           31         0.081633\n",
              "\n",
              "[1 rows x 53 columns]"
            ]
          },
          "metadata": {
            "tags": []
          },
          "execution_count": 21
        }
      ]
    },
    {
      "cell_type": "code",
      "metadata": {
        "ExecuteTime": {
          "end_time": "2021-01-14T05:41:25.848355Z",
          "start_time": "2021-01-14T05:41:25.841374Z"
        },
        "scrolled": true,
        "id": "Th4Id7ys2Nxq"
      },
      "source": [
        "# 主要特征筛选\n",
        "#选择特征\n",
        "market_demond_list=['rank_big_80_top_50']\n",
        "#市场竞争 \n",
        "# 选择特征\n",
        "market_chan_list=['reviews-median_top_50','brand_count','brand_top_ratio']\n",
        "#商品相关\n",
        "product_info_list=['amz','delivery','stars-mean_top_50','price-median_top_50']\n",
        "df_final=df_new[market_chan_list+market_demond_list+product_info_list]"
      ],
      "execution_count": 22,
      "outputs": []
    },
    {
      "cell_type": "code",
      "metadata": {
        "ExecuteTime": {
          "end_time": "2021-01-14T05:41:34.614440Z",
          "start_time": "2021-01-14T05:41:34.601474Z"
        },
        "colab": {
          "base_uri": "https://localhost:8080/",
          "height": 147
        },
        "id": "RQDlyVOX2Nxr",
        "outputId": "599fdfce-e4a2-4d03-8d6b-4e9535922225"
      },
      "source": [
        "df_final"
      ],
      "execution_count": 23,
      "outputs": [
        {
          "output_type": "execute_result",
          "data": {
            "text/html": [
              "<div>\n",
              "<style scoped>\n",
              "    .dataframe tbody tr th:only-of-type {\n",
              "        vertical-align: middle;\n",
              "    }\n",
              "\n",
              "    .dataframe tbody tr th {\n",
              "        vertical-align: top;\n",
              "    }\n",
              "\n",
              "    .dataframe thead th {\n",
              "        text-align: right;\n",
              "    }\n",
              "</style>\n",
              "<table border=\"1\" class=\"dataframe\">\n",
              "  <thead>\n",
              "    <tr style=\"text-align: right;\">\n",
              "      <th></th>\n",
              "      <th>reviews-median_top_50</th>\n",
              "      <th>brand_count</th>\n",
              "      <th>brand_top_ratio</th>\n",
              "      <th>rank_big_80_top_50</th>\n",
              "      <th>amz</th>\n",
              "      <th>delivery</th>\n",
              "      <th>stars-mean_top_50</th>\n",
              "      <th>price-median_top_50</th>\n",
              "    </tr>\n",
              "    <tr>\n",
              "      <th>class0</th>\n",
              "      <th></th>\n",
              "      <th></th>\n",
              "      <th></th>\n",
              "      <th></th>\n",
              "      <th></th>\n",
              "      <th></th>\n",
              "      <th></th>\n",
              "      <th></th>\n",
              "    </tr>\n",
              "  </thead>\n",
              "  <tbody>\n",
              "    <tr>\n",
              "      <th>x1</th>\n",
              "      <td>57.0</td>\n",
              "      <td>31</td>\n",
              "      <td>0.081633</td>\n",
              "      <td>82578.1</td>\n",
              "      <td>0.0</td>\n",
              "      <td>0.897959</td>\n",
              "      <td>3.993878</td>\n",
              "      <td>69.87</td>\n",
              "    </tr>\n",
              "  </tbody>\n",
              "</table>\n",
              "</div>"
            ],
            "text/plain": [
              "        reviews-median_top_50  ...  price-median_top_50\n",
              "class0                         ...                     \n",
              "x1                       57.0  ...                69.87\n",
              "\n",
              "[1 rows x 8 columns]"
            ]
          },
          "metadata": {
            "tags": []
          },
          "execution_count": 23
        }
      ]
    },
    {
      "cell_type": "markdown",
      "metadata": {
        "id": "rJ549kee2Nxr"
      },
      "source": [
        "### 指标体系的进一步处理"
      ]
    },
    {
      "cell_type": "code",
      "metadata": {
        "ExecuteTime": {
          "end_time": "2021-01-14T05:49:06.405500Z",
          "start_time": "2021-01-14T05:49:06.401511Z"
        },
        "id": "TGkZnBpr2Nxr"
      },
      "source": [
        "data=df_final.copy()"
      ],
      "execution_count": 24,
      "outputs": []
    },
    {
      "cell_type": "markdown",
      "metadata": {
        "id": "rEYsaK3P2Nxs"
      },
      "source": [
        "- 指标同向化"
      ]
    },
    {
      "cell_type": "code",
      "metadata": {
        "ExecuteTime": {
          "end_time": "2021-01-14T05:49:07.183422Z",
          "start_time": "2021-01-14T05:49:07.173447Z"
        },
        "id": "YXnM9Ylu2Nxs"
      },
      "source": [
        "#指标同向化，取反\n",
        "def get_inverse(n):\n",
        "    return -n\n",
        "\n",
        "#指标同向化\n",
        "data[['amz','brand_count','brand_count','reviews-median_top_50']]=data[['amz','brand_count','brand_count','reviews-median_top_50']].apply(get_inverse)"
      ],
      "execution_count": 25,
      "outputs": []
    },
    {
      "cell_type": "code",
      "metadata": {
        "ExecuteTime": {
          "end_time": "2021-01-14T06:04:29.418813Z",
          "start_time": "2021-01-14T06:04:29.405847Z"
        },
        "colab": {
          "base_uri": "https://localhost:8080/",
          "height": 147
        },
        "id": "pZiBcUzD2Nxs",
        "outputId": "377770e9-4fd0-4e0c-8428-b56ff8741b9e"
      },
      "source": [
        "data"
      ],
      "execution_count": 26,
      "outputs": [
        {
          "output_type": "execute_result",
          "data": {
            "text/html": [
              "<div>\n",
              "<style scoped>\n",
              "    .dataframe tbody tr th:only-of-type {\n",
              "        vertical-align: middle;\n",
              "    }\n",
              "\n",
              "    .dataframe tbody tr th {\n",
              "        vertical-align: top;\n",
              "    }\n",
              "\n",
              "    .dataframe thead th {\n",
              "        text-align: right;\n",
              "    }\n",
              "</style>\n",
              "<table border=\"1\" class=\"dataframe\">\n",
              "  <thead>\n",
              "    <tr style=\"text-align: right;\">\n",
              "      <th></th>\n",
              "      <th>reviews-median_top_50</th>\n",
              "      <th>brand_count</th>\n",
              "      <th>brand_top_ratio</th>\n",
              "      <th>rank_big_80_top_50</th>\n",
              "      <th>amz</th>\n",
              "      <th>delivery</th>\n",
              "      <th>stars-mean_top_50</th>\n",
              "      <th>price-median_top_50</th>\n",
              "    </tr>\n",
              "    <tr>\n",
              "      <th>class0</th>\n",
              "      <th></th>\n",
              "      <th></th>\n",
              "      <th></th>\n",
              "      <th></th>\n",
              "      <th></th>\n",
              "      <th></th>\n",
              "      <th></th>\n",
              "      <th></th>\n",
              "    </tr>\n",
              "  </thead>\n",
              "  <tbody>\n",
              "    <tr>\n",
              "      <th>x1</th>\n",
              "      <td>-57.0</td>\n",
              "      <td>-31</td>\n",
              "      <td>0.081633</td>\n",
              "      <td>82578.1</td>\n",
              "      <td>-0.0</td>\n",
              "      <td>0.897959</td>\n",
              "      <td>3.993878</td>\n",
              "      <td>69.87</td>\n",
              "    </tr>\n",
              "  </tbody>\n",
              "</table>\n",
              "</div>"
            ],
            "text/plain": [
              "        reviews-median_top_50  ...  price-median_top_50\n",
              "class0                         ...                     \n",
              "x1                      -57.0  ...                69.87\n",
              "\n",
              "[1 rows x 8 columns]"
            ]
          },
          "metadata": {
            "tags": []
          },
          "execution_count": 26
        }
      ]
    },
    {
      "cell_type": "markdown",
      "metadata": {
        "id": "CeLKdSJP2Nxs"
      },
      "source": [
        "- 数据标准化\n",
        "\n",
        "这里用到了python的另一个包`sklearn`中的`preprocessing`的预处理数据工具箱，用它我们可以实现数据的标准化，在这里我们用到了`Min-Max`标准化，利用公式 $$ y_i=\\frac{x_i-min(x)}{max(x)-min(x)}$$ \n",
        "\n",
        "对原始数据的线性变换，使结果落到$ [0,1]$ 区间，可以保留极大极小值。"
      ]
    },
    {
      "cell_type": "code",
      "metadata": {
        "ExecuteTime": {
          "end_time": "2021-01-14T05:49:02.353803Z",
          "start_time": "2021-01-14T05:49:02.349813Z"
        },
        "id": "ufXchp4d2Nxt"
      },
      "source": [
        "minmax_scaler = preprocessing.MinMaxScaler()  # 建立MinMaxScaler模型对象"
      ],
      "execution_count": 27,
      "outputs": []
    },
    {
      "cell_type": "markdown",
      "metadata": {
        "id": "ElwWzuYO2Nxt"
      },
      "source": [
        "### 指标权重确定\n",
        "\n",
        "- 主观评价法"
      ]
    },
    {
      "cell_type": "code",
      "metadata": {
        "ExecuteTime": {
          "end_time": "2021-01-14T05:49:47.823043Z",
          "start_time": "2021-01-14T05:49:47.810078Z"
        },
        "colab": {
          "base_uri": "https://localhost:8080/"
        },
        "id": "3ZRnPUyi2Nxt",
        "outputId": "db389b20-8105-4547-bc1d-79d998139d03"
      },
      "source": [
        "market_demond=0.3\n",
        "market_chan=0.4\n",
        "product_info=0.3\n",
        "weight_dict={\n",
        "        #市场需求:权重和为1\n",
        "        'rank_big_cut_n_most_top_10':market_demond*0.6,\n",
        "        'rank_big_80_top_50':market_demond*0.4,\n",
        "        \n",
        "        #市场竞争:权重和为1\n",
        "        'reviews-median_top_50':market_chan*0.2,\n",
        "        'reviews_cut_n_most_top_10':market_chan*0.3,\n",
        "        'brand_count':market_chan*0.3,\n",
        "        'brand_top_ratio':market_chan*0.2,\n",
        "        \n",
        "        #商品相关:权重和为1\n",
        "        'amz':product_info*0.2,\n",
        "        'delivery':product_info*0.15,\n",
        "        'stars_cut_n_most_top_10':product_info*0.05,\n",
        "        'stars-mean_top_50':product_info*0.15,\n",
        "        'price-median_top_50':market_demond*0.15,\n",
        "        'price_cut_n_most_top_10':market_demond*0.2,\n",
        "        'price_80_top_10':market_demond*0.1\n",
        "        }\n",
        "#专家赋权\n",
        "W1 = pd.DataFrame(weight_dict,index=['expert_w']).T\n",
        "W1['expert_w'].sum()"
      ],
      "execution_count": 28,
      "outputs": [
        {
          "output_type": "execute_result",
          "data": {
            "text/plain": [
              "1.0"
            ]
          },
          "metadata": {
            "tags": []
          },
          "execution_count": 28
        }
      ]
    },
    {
      "cell_type": "markdown",
      "metadata": {
        "id": "BUcMKmIx2Nxu"
      },
      "source": [
        "## 第五步 综合指标法\n",
        "将分数与权重相乘得到最终综合得分"
      ]
    },
    {
      "cell_type": "code",
      "metadata": {
        "ExecuteTime": {
          "end_time": "2021-01-14T06:03:40.344136Z",
          "start_time": "2021-01-14T06:03:40.338569Z"
        },
        "id": "IE_wRszs2Nxu"
      },
      "source": [
        "def get_score(df,name,weight='expert_w',col='final_score'):\n",
        "    '''\n",
        "    df:数据框\n",
        "    name:指标列表\n",
        "    weight:权重选择\n",
        "    col:指标列表名字\n",
        "    '''\n",
        "    # name是一级分类，也可以是所有的\n",
        "    t1=df[name]\n",
        "    #用到的权重体系\n",
        "    W=W1.loc[name,weight]\n",
        "    W=np.array(W)\n",
        "    #计算并保存分数\n",
        "    U=[]\n",
        "    for i in range(1,len(t1)+1):\n",
        "        # 获取样本各个指标的值\n",
        "        y=t1[i-1:i].values\n",
        "        # 综合得分\n",
        "        u=np.sum(y*W)*100\n",
        "        U.append(u)\n",
        "    U=pd.DataFrame(U,index=list(t1.index))\n",
        "    U.columns=[col]\n",
        "    U[col+' rank']=U[col].rank(ascending=False)\n",
        "    return U"
      ],
      "execution_count": 29,
      "outputs": []
    },
    {
      "cell_type": "code",
      "metadata": {
        "ExecuteTime": {
          "end_time": "2021-01-14T06:04:00.171586Z",
          "start_time": "2021-01-14T06:04:00.143351Z"
        },
        "colab": {
          "base_uri": "https://localhost:8080/",
          "height": 117
        },
        "id": "V8GEk4bD2Nxu",
        "outputId": "6764a122-ee2b-49d6-ac55-7ee9f5734a90"
      },
      "source": [
        "data_final=get_score(data,market_demond_list,'expert_w','score_market_demond')\n",
        "data_final=data_final.join(get_score(data,market_chan_list,'expert_w','score_market_chan'))\n",
        "data_final=data_final.join(get_score(data,product_info_list,'expert_w','score_product_info'))\n",
        "data_final['score']=data_final['score_market_demond']+data_final['score_market_chan']+data_final['score_product_info']\n",
        "#排名，取高的\n",
        "data_final['rank']=data_final['score'].rank(ascending=False)\n",
        "\n",
        "data_final.sort_values('rank')"
      ],
      "execution_count": 30,
      "outputs": [
        {
          "output_type": "execute_result",
          "data": {
            "text/html": [
              "<div>\n",
              "<style scoped>\n",
              "    .dataframe tbody tr th:only-of-type {\n",
              "        vertical-align: middle;\n",
              "    }\n",
              "\n",
              "    .dataframe tbody tr th {\n",
              "        vertical-align: top;\n",
              "    }\n",
              "\n",
              "    .dataframe thead th {\n",
              "        text-align: right;\n",
              "    }\n",
              "</style>\n",
              "<table border=\"1\" class=\"dataframe\">\n",
              "  <thead>\n",
              "    <tr style=\"text-align: right;\">\n",
              "      <th></th>\n",
              "      <th>score_market_demond</th>\n",
              "      <th>score_market_demond rank</th>\n",
              "      <th>score_market_chan</th>\n",
              "      <th>score_market_chan rank</th>\n",
              "      <th>score_product_info</th>\n",
              "      <th>score_product_info rank</th>\n",
              "      <th>score</th>\n",
              "      <th>rank</th>\n",
              "    </tr>\n",
              "  </thead>\n",
              "  <tbody>\n",
              "    <tr>\n",
              "      <th>x1</th>\n",
              "      <td>990937.2</td>\n",
              "      <td>1.0</td>\n",
              "      <td>-827.346939</td>\n",
              "      <td>1.0</td>\n",
              "      <td>336.428265</td>\n",
              "      <td>1.0</td>\n",
              "      <td>990446.281327</td>\n",
              "      <td>1.0</td>\n",
              "    </tr>\n",
              "  </tbody>\n",
              "</table>\n",
              "</div>"
            ],
            "text/plain": [
              "    score_market_demond  score_market_demond rank  ...          score  rank\n",
              "x1             990937.2                       1.0  ...  990446.281327   1.0\n",
              "\n",
              "[1 rows x 8 columns]"
            ]
          },
          "metadata": {
            "tags": []
          },
          "execution_count": 30
        }
      ]
    },
    {
      "cell_type": "code",
      "metadata": {
        "id": "FqXKaWT72Nxv"
      },
      "source": [
        ""
      ],
      "execution_count": null,
      "outputs": []
    }
  ]
}